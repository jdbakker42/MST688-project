{
  "nbformat": 4,
  "nbformat_minor": 0,
  "metadata": {
    "colab": {
      "name": "pubmedBMI.ipynb",
      "provenance": [],
      "authorship_tag": "ABX9TyPT4zujEMc1jbbwAOPMXN0f",
      "include_colab_link": true
    },
    "kernelspec": {
      "name": "python3",
      "display_name": "Python 3"
    },
    "language_info": {
      "name": "python"
    }
  },
  "cells": [
    {
      "cell_type": "markdown",
      "metadata": {
        "id": "view-in-github",
        "colab_type": "text"
      },
      "source": [
        "<a href=\"https://colab.research.google.com/github/jdbakker42/MST688-project/blob/main/pubmedBMI.ipynb\" target=\"_parent\"><img src=\"https://colab.research.google.com/assets/colab-badge.svg\" alt=\"Open In Colab\"/></a>"
      ]
    },
    {
      "cell_type": "markdown",
      "metadata": {
        "id": "LutwTMoLfmRx"
      },
      "source": [
        "Creating a webscraper for Pubmed articles on brain-machine interfaces with a relation to China using BeautifulSoup"
      ]
    },
    {
      "cell_type": "code",
      "metadata": {
        "id": "sA23tTLPxbCi"
      },
      "source": [
        "import bs4\n",
        "from urllib.request import urlopen as uReq\n",
        "from bs4 import BeautifulSoup as soup\n",
        "\n",
        "my_url = 'https://pubmed.ncbi.nlm.nih.gov/?term=%28%28%28brain-machine+interface%29+OR+%28Brain-computer+interface%29+%29+AND+%28china%29&format=abstract&size=200'\n",
        "\n",
        "#opening up connection, grabbing the page\n",
        "uClient = uReq(my_url)\n",
        "page_html = uClient.read()\n",
        "uClient.close()\n",
        "\n",
        "#html parsing\n",
        "page_soup = soup(page_html, \"html.parser\")\n",
        "\n",
        "#grab each publication on the page\n",
        "containers = page_soup.findAll(\"article\",{\"class\":\"article-overview\"})\n",
        "\n",
        "filename = \"pubmed_bmi1.csv\"\n",
        "f = open(filename, \"w\")\n",
        "\n",
        "headers = \"title, author_affiliation, abstract, doi\\n\"\n",
        "\n",
        "f.write(headers)\n",
        "\n",
        "for container in containers:\n",
        "  publication_title = container.h1.a.text\n",
        "\n",
        "  author_container = container.findAll(\"div\",{\"class\":\"affiliations\"})\n",
        "  author_affiliations = author_container[0].text\n",
        "\n",
        "  abstract_container = container.findAll(\"div\",{\"class\":\"abstract\"})\n",
        "  abstract = abstract_container[0].text\n",
        "\n",
        "  doi_container = container.findAll(\"span\",{\"class\":\"citation-doi\"})\n",
        "  doi = doi_container[0].text.strip()\n",
        "\n",
        "  print(\"publication_title: \" + publication_title)\n",
        "  print(\"authors affiliation: \" + author_affiliations)\n",
        "  print(\"abstract: \" + abstract)\n",
        "  print(\"doi: \" + doi)\n",
        "\n",
        "  f.write(publication_title + \",\" + author_affiliations + \",\" + abstract + \",\" +doi + \"\\n\")\n",
        "\n",
        "f.close()\n"
      ],
      "execution_count": null,
      "outputs": []
    }
  ]
}